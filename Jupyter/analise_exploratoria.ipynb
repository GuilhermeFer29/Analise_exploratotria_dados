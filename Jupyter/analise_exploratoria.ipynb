{
 "cells": [
  {
   "cell_type": "markdown",
   "metadata": {},
   "source": [
    "### Analise exploratoria de dados"
   ]
  },
  {
   "cell_type": "code",
   "execution_count": null,
   "metadata": {},
   "outputs": [],
   "source": [
    "import pandas as pd\n",
    "import matplotlib.pyplot as plt\n",
    "import seaborn as sns\n",
    "\n",
    "# carregar os dados\n",
    "df = pd.read_csv('funcionarios_ti_nomes.csv')\n",
    "df.head()"
   ]
  },
  {
   "cell_type": "markdown",
   "metadata": {},
   "source": [
    "### Distribuição de Salários na Área de TI\n",
    "\n",
    "\n",
    "Objetivo: Ver como os salários estão distribuídos, verificar a média, mediana e a presença de outliers."
   ]
  },
  {
   "cell_type": "markdown",
   "metadata": {},
   "source": [
    " Estatística Básica"
   ]
  },
  {
   "cell_type": "code",
   "execution_count": null,
   "metadata": {},
   "outputs": [],
   "source": [
    "\n",
    "# Estatisticas descritivas dos salarios \n",
    "\n",
    "df['Salário'].describe() # Me traz todas as estatisticas descritivas"
   ]
  },
  {
   "cell_type": "markdown",
   "metadata": {},
   "source": [
    "Boxplot para Identificação de Outliers"
   ]
  },
  {
   "cell_type": "code",
   "execution_count": null,
   "metadata": {},
   "outputs": [],
   "source": [
    "plt.figure(figsize=(10, 6))\n",
    "\n",
    "sns.displot(x=df['Salário'],height=3, aspect=2, color='darkblue' , kde=True)\n",
    "\n",
    "plt.title('Distribuição de Salário na Área de TI')\n",
    "plt.xlabel('Salário(R$)')\n",
    "\n",
    "plt.show()\n"
   ]
  },
  {
   "cell_type": "markdown",
   "metadata": {},
   "source": [
    "### Criar um Histograma para Visualizar a Distribuição "
   ]
  },
  {
   "cell_type": "code",
   "execution_count": null,
   "metadata": {},
   "outputs": [],
   "source": [
    "plt.figure(figsize=(10, 5))\n",
    "\n",
    "sns.histplot(df['Salário'], bins=15 , kde=True, color= 'green')\n",
    "\n",
    "plt.title('Histograma da Distribuição de Salários')\n",
    "plt.xlabel('Salário (R$)')\n",
    "plt.ylabel('Frequência')\n",
    "plt.show()"
   ]
  },
  {
   "cell_type": "markdown",
   "metadata": {},
   "source": [
    " Verificar a Presença de Outliers"
   ]
  },
  {
   "cell_type": "code",
   "execution_count": null,
   "metadata": {},
   "outputs": [],
   "source": [
    "q1 = df['Salário'].quantile(0.25)\n",
    "q3 = df['Salário'].quantile(0.75)\n",
    "iqr = q3 - q1 #intervalo interquartil\n",
    "\n",
    "limite_inferior = q1 - 1.5 * iqr\n",
    "limite_superior = q3 + 1.5 * iqr\n",
    "\n",
    "\n",
    "# Filtrar os outliers\n",
    "\n",
    "outliers = df[(df[\"Salário\"] < limite_inferior) | (df[\"Salário\"] > limite_superior)]\n",
    "\n",
    "outliers\n",
    "print(f\"Quantidade de outliers: {len(outliers)}\")"
   ]
  },
  {
   "cell_type": "markdown",
   "metadata": {},
   "source": [
    "#### Análise: Salário Médio por Cargo\n",
    "\n",
    "Objetivo: Descobrir quais cargos pagam mais e quais têm salários mais baixos.\n",
    "\n"
   ]
  },
  {
   "cell_type": "code",
   "execution_count": null,
   "metadata": {},
   "outputs": [],
   "source": [
    "# Verficando os dados e colunas\n",
    "\n",
    "\n",
    "df.head()"
   ]
  },
  {
   "cell_type": "code",
   "execution_count": null,
   "metadata": {},
   "outputs": [],
   "source": [
    "# Media de salario por cargo\n",
    "\n",
    "salario_por_cargo = df.groupby('Cargo')['Salário'].mean().sort_values(ascending=False)\n",
    "\n",
    "salario_por_cargo"
   ]
  },
  {
   "cell_type": "markdown",
   "metadata": {},
   "source": [
    "## Visualizar com um gráfico de barras"
   ]
  },
  {
   "cell_type": "markdown",
   "metadata": {},
   "source": [
    "#### O que esse gráfico mostra?\n",
    "\n",
    "A hierarquia salarial entre os cargos.\n",
    "\n",
    "Diferença entre os melhores e piores salários.\n",
    "\n",
    "Se a curva salarial faz sentido para o mercado.\n"
   ]
  },
  {
   "cell_type": "code",
   "execution_count": null,
   "metadata": {},
   "outputs": [],
   "source": [
    "plt.figure(figsize=(10, 6))\n",
    "\n",
    "sns.barplot(x=salario_por_cargo.values, y=salario_por_cargo.index, palette='viridis')\n",
    "\n",
    "plt.title('Salário Médio por Cargo na Área de TI')\n",
    "plt.xlabel('Salário Médio (R$)')\n",
    "plt.show()"
   ]
  },
  {
   "cell_type": "markdown",
   "metadata": {},
   "source": [
    "### Comparação de Médias Geral\n",
    "\n",
    "Isso cria uma tabela onde os cargos acima da média ficam verdes e os abaixo vermelhos."
   ]
  },
  {
   "cell_type": "code",
   "execution_count": null,
   "metadata": {},
   "outputs": [],
   "source": [
    "media_geral = df['Salário'].mean()\n",
    "print(f'Sálario médio geral : R$ {media_geral:.2f}')\n",
    "\n",
    "# Comparação de cada cargo com a media\n",
    "\n",
    "df_media = salario_por_cargo.to_frame().reset_index()\n",
    "\n",
    "df_media['Acima da Média?'] = df_media['Salário'] > media_geral\n",
    "\n",
    "df_media.style.applymap(lambda x: \"background-color: green\" if x else \"background-color: red\", subset=[\"Acima da Média?\"])"
   ]
  },
  {
   "cell_type": "markdown",
   "metadata": {},
   "source": [
    "### Análise: Distribuição Geográfica dos Funcionários\n",
    "\n",
    " Objetivo: Descobrir onde há maior concentração de profissionais de TI."
   ]
  },
  {
   "cell_type": "code",
   "execution_count": null,
   "metadata": {},
   "outputs": [],
   "source": [
    " # Verificar se As colunas estão no formato correto\n",
    "\n",
    "df.head()"
   ]
  },
  {
   "cell_type": "code",
   "execution_count": null,
   "metadata": {},
   "outputs": [],
   "source": [
    "cidades_comuns = df['Cidade'].value_counts().head(10)\n",
    "\n",
    "\n",
    "# Grafico\n",
    "\n",
    "plt.figure(figsize=(12, 6))\n",
    "\n",
    "sns.barplot(x=cidades_comuns.values, y=cidades_comuns.index, palette='coolwarm')\n",
    "\n",
    "plt.title('Top 10 Cidades com Mais Profissionais de TI') \n",
    "plt.xlabel('Quantidade de Profissionais')\n",
    "plt.ylabel('Cidade')\n",
    "plt.show()"
   ]
  },
  {
   "cell_type": "markdown",
   "metadata": {},
   "source": [
    "### Distribuição por Estados"
   ]
  },
  {
   "cell_type": "code",
   "execution_count": null,
   "metadata": {},
   "outputs": [],
   "source": [
    "estados_comuns = df['Estado'].value_counts().head(10)\n",
    "\n",
    "# Grafico\n",
    "plt.figure(figsize=(12, 6))\n",
    "\n",
    "sns.barplot(x=estados_comuns.values , y=estados_comuns.index, palette='Blues_r')\n",
    "\n",
    "plt.title('Top 10 Estados com mais Proficionais de TI')\n",
    "plt.xlabel('Quantidade de Profissionais')\n",
    "plt.ylabel('Estados')\n",
    "plt.show()\n"
   ]
  },
  {
   "cell_type": "markdown",
   "metadata": {},
   "source": [
    "### Distribuição por País\n",
    "\n",
    " Contar funcionários por país"
   ]
  },
  {
   "cell_type": "code",
   "execution_count": null,
   "metadata": {},
   "outputs": [],
   "source": [
    "paises_comuns = df['País'].value_counts()\n",
    "\n",
    "# Graficos\n",
    "\n",
    "plt.figure(figsize=(10, 6))\n",
    "\n",
    "sns.barplot(x=paises_comuns.values, y=paises_comuns.index, palette='viridis')\n",
    "\n",
    "plt.title('Quantidade de Profissionais por País')\n",
    "plt.xlabel('Quantidade de Profissionais')\n",
    "plt.ylabel('Países')\n",
    "plt.show()\n"
   ]
  },
  {
   "cell_type": "markdown",
   "metadata": {},
   "source": [
    "### Criando um mapa de calor Geografico"
   ]
  },
  {
   "cell_type": "code",
   "execution_count": null,
   "metadata": {},
   "outputs": [],
   "source": [
    "import folium\n",
    "from geopy.geocoders import Nominatim"
   ]
  },
  {
   "cell_type": "code",
   "execution_count": null,
   "metadata": {},
   "outputs": [],
   "source": [
    "\n",
    "# Criar um mapa centrado no Brasil\n",
    "mapa = folium.Map(location=[-14.2350, -51.9253], zoom_start=4)\n",
    "\n",
    "# Configurar o geolocalizador\n",
    "geolocator = Nominatim(user_agent=\"geoapi\")\n",
    "\n",
    "\n",
    "for cidade in df[\"Cidade\"].unique():\n",
    "    try:\n",
    "        location = geolocator.geocode(cidade + \", Brasil\")\n",
    "        if location:\n",
    "            folium.Marker([location.latitude, location.longitude], popup=cidade).add_to(mapa)\n",
    "    except:\n",
    "        pass  \n",
    "\n",
    "mapa\n"
   ]
  }
 ],
 "metadata": {
  "kernelspec": {
   "display_name": "venv",
   "language": "python",
   "name": "python3"
  },
  "language_info": {
   "codemirror_mode": {
    "name": "ipython",
    "version": 3
   },
   "file_extension": ".py",
   "mimetype": "text/x-python",
   "name": "python",
   "nbconvert_exporter": "python",
   "pygments_lexer": "ipython3",
   "version": "3.12.3"
  }
 },
 "nbformat": 4,
 "nbformat_minor": 2
}
